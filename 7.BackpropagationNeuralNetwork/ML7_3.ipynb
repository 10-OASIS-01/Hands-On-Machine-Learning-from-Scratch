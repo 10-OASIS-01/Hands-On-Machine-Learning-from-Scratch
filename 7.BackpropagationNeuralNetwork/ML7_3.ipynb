{
 "cells": [
  {
   "metadata": {
    "ExecuteTime": {
     "end_time": "2024-12-11T11:19:33.684202Z",
     "start_time": "2024-12-11T11:19:33.680067Z"
    }
   },
   "cell_type": "code",
   "source": [
    "import random\n",
    "import numpy as np\n",
    "import matplotlib.pyplot as plt\n",
    "from sklearn.datasets import load_iris\n",
    "from sklearn.model_selection import train_test_split\n",
    "from sklearn.preprocessing import StandardScaler\n",
    "from Autograd import Value\n",
    "from MLP import MLP\n",
    "from matplotlib import rcParams\n",
    "import warnings\n",
    "warnings.filterwarnings('ignore')\n",
    "# 确保支持中文显示（如果特征名或标签名中有中文）\n",
    "rcParams['font.sans-serif'] = ['SimHei']\n",
    "rcParams['axes.unicode_minus'] = False\n",
    "\n",
    "# 设置随机种子以确保结果可重复\n",
    "np.random.seed(1337)\n",
    "random.seed(1337)\n"
   ],
   "id": "5c124c9f00b5d9b8",
   "outputs": [],
   "execution_count": 20
  },
  {
   "metadata": {
    "ExecuteTime": {
     "end_time": "2024-12-11T11:19:33.701675Z",
     "start_time": "2024-12-11T11:19:33.697286Z"
    }
   },
   "cell_type": "code",
   "source": [
    "def softmax(outputs):\n",
    "    \"\"\"\n",
    "    对输出层的值应用 Softmax 函数。\n",
    "    输入：List[Value]\n",
    "    输出：List[Value]，对应每个类别的概率\n",
    "    \"\"\"\n",
    "    max_val = max(out.data for out in outputs)\n",
    "    exps = [ (out - Value(max_val)).exp() for out in outputs ]\n",
    "    sum_exps = sum(exps)\n",
    "    probs = [exp_val / sum_exps for exp_val in exps]\n",
    "    return probs"
   ],
   "id": "b5737392cfec6984",
   "outputs": [],
   "execution_count": 21
  },
  {
   "metadata": {
    "ExecuteTime": {
     "end_time": "2024-12-11T11:19:33.721976Z",
     "start_time": "2024-12-11T11:19:33.718956Z"
    }
   },
   "cell_type": "code",
   "source": [
    "def cross_entropy_loss(probs, target_class):\n",
    "    \"\"\"\n",
    "    计算交叉熵损失。\n",
    "    输入：\n",
    "        probs: List[Value]，每个类别的概率\n",
    "        target_class: int，真实类别索引\n",
    "    输出：\n",
    "        loss: Value，交叉熵损失\n",
    "    \"\"\"\n",
    "    # 获取正确类别的概率\n",
    "    target_prob = probs[target_class]\n",
    "    # 交叉熵损失： -log(p)\n",
    "    loss = (-target_prob.log())\n",
    "    return loss"
   ],
   "id": "320a1a90fcec760f",
   "outputs": [],
   "execution_count": 22
  },
  {
   "metadata": {
    "ExecuteTime": {
     "end_time": "2024-12-11T11:19:33.744886Z",
     "start_time": "2024-12-11T11:19:33.738625Z"
    }
   },
   "cell_type": "code",
   "source": [
    "# 加载数据\n",
    "iris = load_iris()\n",
    "X = iris.data  # 特征\n",
    "y = iris.target  # 标签（0,1,2）\n",
    "\n",
    "# 标准化特征\n",
    "scaler = StandardScaler()\n",
    "X = scaler.fit_transform(X)\n",
    "\n",
    "# 划分训练集和测试集\n",
    "X_train, X_test, y_train, y_test = train_test_split(\n",
    "    X, y, test_size=0.2, random_state=42, stratify=y\n",
    ")"
   ],
   "id": "b2e2e1fbdea49c2d",
   "outputs": [],
   "execution_count": 23
  },
  {
   "metadata": {
    "ExecuteTime": {
     "end_time": "2024-12-11T11:19:33.765517Z",
     "start_time": "2024-12-11T11:19:33.761932Z"
    }
   },
   "cell_type": "code",
   "source": [
    "# 将训练集转换为 Value 对象\n",
    "def create_batches(X, y, batch_size):\n",
    "    \"\"\"创建小批量数据\"\"\"\n",
    "    indices = np.arange(len(X))\n",
    "    np.random.shuffle(indices)\n",
    "    for start in range(0, len(X), batch_size):\n",
    "        end = start + batch_size\n",
    "        batch_indices = indices[start:end]\n",
    "        X_batch = [list(map(Value, x)) for x in X[batch_indices]]\n",
    "        y_batch = y[batch_indices]\n",
    "        yield X_batch, y_batch"
   ],
   "id": "446ac7727e8764e5",
   "outputs": [],
   "execution_count": 24
  },
  {
   "metadata": {
    "ExecuteTime": {
     "end_time": "2024-12-11T11:19:33.787802Z",
     "start_time": "2024-12-11T11:19:33.782954Z"
    }
   },
   "cell_type": "code",
   "source": [
    "# 初始化模型\n",
    "input_size = X.shape[1]  # 4\n",
    "hidden_layers = [16, 16]  # 两个隐藏层，每层16个神经元\n",
    "output_size = 3  # 三个类别\n",
    "model = MLP(input_size=input_size, layer_sizes=hidden_layers, output_size=output_size)\n",
    "\n",
    "# 打印模型结构\n",
    "print(\"\\n模型结构:\")\n",
    "print(model.describe())"
   ],
   "id": "4066e60a6e7937b8",
   "outputs": [
    {
     "name": "stdout",
     "output_type": "stream",
     "text": [
      "\n",
      "模型结构:\n",
      "MLP Structure:\n",
      "  Layer 1:\n",
      "    Layer with 16 Neurons:\n",
      "      Neuron 1:         ReLUNeuron:\n",
      "          Weights: [0.2355, 0.0665, -0.2683, 0.1716]\n",
      "          Bias: 0.0000\n",
      "      Neuron 2:         ReLUNeuron:\n",
      "          Weights: [-0.6686, 0.6487, -0.2326, 0.5792]\n",
      "          Bias: 0.0000\n",
      "      Neuron 3:         ReLUNeuron:\n",
      "          Weights: [0.8435, -0.3847, 0.9845, -0.5901]\n",
      "          Bias: 0.0000\n",
      "      Neuron 4:         ReLUNeuron:\n",
      "          Weights: [0.3126, 0.8246, -0.7814, 0.6409]\n",
      "          Bias: 0.0000\n",
      "      Neuron 5:         ReLUNeuron:\n",
      "          Weights: [-0.2025, -0.8693, 0.3984, -0.3038]\n",
      "          Bias: 0.0000\n",
      "      Neuron 6:         ReLUNeuron:\n",
      "          Weights: [-0.1928, 0.6032, 0.6001, 0.3275]\n",
      "          Bias: 0.0000\n",
      "      Neuron 7:         ReLUNeuron:\n",
      "          Weights: [0.6650, 0.1889, -0.0781, 0.9151]\n",
      "          Bias: 0.0000\n",
      "      Neuron 8:         ReLUNeuron:\n",
      "          Weights: [0.5914, -0.3725, 0.3811, 0.8302]\n",
      "          Bias: 0.0000\n",
      "      Neuron 9:         ReLUNeuron:\n",
      "          Weights: [-0.0857, -0.4703, -0.5980, -0.8654]\n",
      "          Bias: 0.0000\n",
      "      Neuron 10:         ReLUNeuron:\n",
      "          Weights: [0.0509, 0.2373, 0.1546, -0.9122]\n",
      "          Bias: 0.0000\n",
      "      Neuron 11:         ReLUNeuron:\n",
      "          Weights: [-0.1851, 0.3058, 0.2395, 0.3512]\n",
      "          Bias: 0.0000\n",
      "      Neuron 12:         ReLUNeuron:\n",
      "          Weights: [0.2700, -0.6060, -0.4301, -0.0953]\n",
      "          Bias: 0.0000\n",
      "      Neuron 13:         ReLUNeuron:\n",
      "          Weights: [0.8331, 0.5965, -0.3714, 0.5908]\n",
      "          Bias: 0.0000\n",
      "      Neuron 14:         ReLUNeuron:\n",
      "          Weights: [0.2216, -0.1357, 0.5809, 0.0992]\n",
      "          Bias: 0.0000\n",
      "      Neuron 15:         ReLUNeuron:\n",
      "          Weights: [0.5520, 0.1108, 0.2915, 0.6969]\n",
      "          Bias: 0.0000\n",
      "      Neuron 16:         ReLUNeuron:\n",
      "          Weights: [-0.5727, 0.9489, 0.0582, 0.0569]\n",
      "          Bias: 0.0000\n",
      "  Layer 2:\n",
      "    Layer with 16 Neurons:\n",
      "      Neuron 1:         ReLUNeuron:\n",
      "          Weights: [0.5506, -0.8991, -0.0107, 0.4730, -0.0896, 0.7976, 0.6100, -0.0248, 0.5044, 0.4577, -0.2948, 0.1168, 0.1380, -0.4854, -0.8664, -0.7390]\n",
      "          Bias: 0.0000\n",
      "      Neuron 2:         ReLUNeuron:\n",
      "          Weights: [-0.8822, -0.6598, 0.6400, -0.6163, 0.9053, 0.6671, 0.7552, 0.1091, -0.1459, 0.2128, 0.7623, 0.8620, -0.1401, 0.4822, -0.6889, 0.2678]\n",
      "          Bias: 0.0000\n",
      "      Neuron 3:         ReLUNeuron:\n",
      "          Weights: [-0.3054, -0.8632, -0.2952, 0.3537, 0.2019, 0.4348, -0.6170, -0.0319, 0.2263, 0.1056, -0.6805, 0.4228, 0.6854, -0.2141, -0.6109, 0.5255]\n",
      "          Bias: 0.0000\n",
      "      Neuron 4:         ReLUNeuron:\n",
      "          Weights: [0.2498, -0.1649, -0.6818, -0.0616, 0.3953, -0.3567, -0.9395, 0.1999, 0.2826, -0.3861, 0.8860, 0.0922, 0.5616, 0.7480, -0.5498, -0.3894]\n",
      "          Bias: 0.0000\n",
      "      Neuron 5:         ReLUNeuron:\n",
      "          Weights: [-0.1199, -0.2419, 0.2731, -0.7119, 0.6407, 0.5252, -0.5266, 0.6262, -0.8283, 0.3881, -0.3150, 0.6825, -0.4496, 0.0543, 0.1884, -0.2225]\n",
      "          Bias: 0.0000\n",
      "      Neuron 6:         ReLUNeuron:\n",
      "          Weights: [-0.7209, 0.7177, 0.0086, -0.2424, 0.2790, -0.7726, -0.5139, -0.8955, 0.5816, -0.5751, 0.0699, 0.8579, 0.1599, -0.7941, 0.7129, 0.9005]\n",
      "          Bias: 0.0000\n",
      "      Neuron 7:         ReLUNeuron:\n",
      "          Weights: [0.0116, 0.1819, 0.2885, 0.2822, -0.0075, -0.9683, -0.7037, 0.9556, 0.8304, 0.2986, 0.2305, 0.8610, 0.4704, -0.9583, 0.5815, -0.6754]\n",
      "          Bias: 0.0000\n",
      "      Neuron 8:         ReLUNeuron:\n",
      "          Weights: [0.5036, 0.2956, 0.4217, 0.5984, -0.0781, 0.6104, 0.3465, 0.5047, -0.9499, -0.1474, 0.5844, -0.7951, -0.6602, 0.4355, 0.8152, 0.2604]\n",
      "          Bias: 0.0000\n",
      "      Neuron 9:         ReLUNeuron:\n",
      "          Weights: [0.7178, -0.6862, -0.6063, -0.8434, 0.1001, 0.8241, 0.1550, -0.5089, 0.8287, -0.8823, -0.5452, 0.5762, -0.3434, 0.1032, -0.0538, -0.6117]\n",
      "          Bias: 0.0000\n",
      "      Neuron 10:         ReLUNeuron:\n",
      "          Weights: [-0.8525, 0.6965, 0.3227, -0.2782, 0.1606, -0.9446, 0.8742, 0.3582, 0.9043, -0.8816, 0.1004, -0.7699, 0.3041, -0.2035, -0.4433, 0.1243]\n",
      "          Bias: 0.0000\n",
      "      Neuron 11:         ReLUNeuron:\n",
      "          Weights: [-0.4259, 0.3790, -0.9859, 0.7028, -0.4012, -0.2568, 0.5347, -0.3552, 0.5122, -0.8869, 0.5189, -0.8928, 0.5237, 0.6018, 0.2463, -0.2056]\n",
      "          Bias: 0.0000\n",
      "      Neuron 12:         ReLUNeuron:\n",
      "          Weights: [-0.6525, -0.0065, 0.3493, -0.6325, -0.8530, -0.6218, 0.9327, 0.2794, 0.5689, -0.6841, -0.5559, 0.2059, -0.8391, -0.5530, -0.6279, -0.9593]\n",
      "          Bias: 0.0000\n",
      "      Neuron 13:         ReLUNeuron:\n",
      "          Weights: [0.9196, 0.0459, 0.5127, -0.7914, 0.8488, -0.3572, -0.8966, 0.4191, -0.0188, 0.6546, -0.3485, 0.5544, 0.1690, -0.3389, 0.3973, -0.7930]\n",
      "          Bias: 0.0000\n",
      "      Neuron 14:         ReLUNeuron:\n",
      "          Weights: [0.0771, 0.3936, -0.8762, 0.3788, -0.2034, -0.9231, -0.2020, 0.9606, -0.9182, 0.2292, -0.1319, -0.0870, 0.9841, 0.1943, 0.2294, 0.1230]\n",
      "          Bias: 0.0000\n",
      "      Neuron 15:         ReLUNeuron:\n",
      "          Weights: [0.9129, -0.8210, 0.9648, 0.3471, 0.5436, 0.4910, -0.9354, -0.7077, -0.5439, 0.2416, -0.6724, -0.5973, 0.6458, -0.2272, -0.3223, -0.2533]\n",
      "          Bias: 0.0000\n",
      "      Neuron 16:         ReLUNeuron:\n",
      "          Weights: [-0.5683, 0.6486, 0.7558, -0.4625, 0.0820, -0.8284, 0.8576, -0.0313, -0.6975, -0.7829, -0.5904, 0.7993, 0.4090, -0.6738, -0.9126, -0.9955]\n",
      "          Bias: 0.0000\n",
      "  Output Layer:\n",
      "    Layer with 3 Neurons:\n",
      "      Neuron 1:         LinearNeuron:\n",
      "          Weights: [-0.5255, -0.2966, -0.3802, 0.3134, 0.4614, -0.1555, 0.0502, 0.8462, 0.4610, -0.1927, -0.6008, -0.6299, 0.6649, 0.4267, 0.8863, 0.0606]\n",
      "          Bias: 0.0000\n",
      "      Neuron 2:         LinearNeuron:\n",
      "          Weights: [0.3238, -0.8864, 0.8397, -0.7991, 0.1119, -0.4273, 0.7511, 0.8301, -0.4908, -0.3588, 0.3775, 0.2845, 0.0820, 0.1778, 0.0719, -0.9309]\n",
      "          Bias: 0.0000\n",
      "      Neuron 3:         LinearNeuron:\n",
      "          Weights: [-0.3548, 0.6657, 0.8699, -0.1436, 0.7731, 0.2868, 0.1338, -0.6615, -0.2487, 0.0348, -0.9579, -0.8527, -0.6208, 0.3894, -0.2328, -0.3793]\n",
      "          Bias: 0.0000\n",
      "\n"
     ]
    }
   ],
   "execution_count": 25
  },
  {
   "metadata": {
    "ExecuteTime": {
     "end_time": "2024-12-11T11:19:33.809487Z",
     "start_time": "2024-12-11T11:19:33.806643Z"
    }
   },
   "cell_type": "code",
   "source": [
    "# 训练参数\n",
    "learning_rate = 0.01\n",
    "epochs = 40\n",
    "batch_size = 16\n"
   ],
   "id": "26f8b2a083d0e856",
   "outputs": [],
   "execution_count": 26
  },
  {
   "metadata": {
    "ExecuteTime": {
     "end_time": "2024-12-11T11:19:33.830914Z",
     "start_time": "2024-12-11T11:19:33.826821Z"
    }
   },
   "cell_type": "code",
   "source": [
    "def evaluate(model, X, y):\n",
    "    \"\"\"评估模型在给定数据上的准确率\"\"\"\n",
    "    correct = 0\n",
    "    total = len(X)\n",
    "    for x, target in zip(X, y):\n",
    "        inputs = list(map(Value, x))\n",
    "        outputs = model(inputs)\n",
    "        probs = softmax(outputs)\n",
    "        predicted = np.argmax([p.data for p in probs])\n",
    "        if predicted == target:\n",
    "            correct += 1\n",
    "    return correct / total"
   ],
   "id": "ccdef110352c76b",
   "outputs": [],
   "execution_count": 27
  },
  {
   "metadata": {
    "ExecuteTime": {
     "end_time": "2024-12-11T11:20:53.223849Z",
     "start_time": "2024-12-11T11:19:33.848156Z"
    }
   },
   "cell_type": "code",
   "source": [
    "# 训练模型\n",
    "\n",
    "loss_history = []\n",
    "accuracy_history = []\n",
    "\n",
    "for epoch in range(epochs):\n",
    "    epoch_loss = 0\n",
    "    epoch_acc = 0\n",
    "    num_batches = 0\n",
    "\n",
    "    for X_batch, y_batch in create_batches(X_train, y_train, batch_size):\n",
    "        model.zero_grad()\n",
    "        batch_loss = 0\n",
    "        for x, target in zip(X_batch, y_batch):\n",
    "            outputs = model(x)  # List[Value]\n",
    "            probs = softmax(outputs)  # List[Value]\n",
    "            loss = cross_entropy_loss(probs, target)\n",
    "            loss.backward()\n",
    "            batch_loss += loss.data\n",
    "            # 计算准确率\n",
    "            predicted = np.argmax([p.data for p in probs])\n",
    "            if predicted == target:\n",
    "                epoch_acc += 1\n",
    "        # 平均损失\n",
    "        batch_loss /= len(y_batch)\n",
    "        epoch_loss += batch_loss\n",
    "        num_batches += 1\n",
    "\n",
    "        # 更新参数\n",
    "        for param in model.parameters():\n",
    "            param.data -= learning_rate * param.grad\n",
    "            # 梯度清零\n",
    "            param.grad = 0\n",
    "\n",
    "    # 记录平均损失和准确率\n",
    "    avg_loss = epoch_loss / num_batches\n",
    "    avg_acc = epoch_acc / len(y_train)\n",
    "    loss_history.append(avg_loss)\n",
    "    accuracy_history.append(avg_acc)\n",
    "\n",
    "    if (epoch + 1) % 10 == 0 or epoch == 0:\n",
    "        print(f\"Epoch {epoch+1}/{epochs} - Loss: {avg_loss:.4f} - Accuracy: {avg_acc:.4f}\")\n"
   ],
   "id": "b7bdeb57be5fd3e3",
   "outputs": [
    {
     "name": "stdout",
     "output_type": "stream",
     "text": [
      "Epoch 1/40 - Loss: 1.2655 - Accuracy: 0.5833\n",
      "Epoch 10/40 - Loss: 0.0886 - Accuracy: 0.9667\n",
      "Epoch 20/40 - Loss: 0.0490 - Accuracy: 0.9833\n",
      "Epoch 30/40 - Loss: 0.0533 - Accuracy: 0.9833\n",
      "Epoch 40/40 - Loss: 0.0377 - Accuracy: 0.9833\n"
     ]
    }
   ],
   "execution_count": 28
  },
  {
   "metadata": {
    "ExecuteTime": {
     "end_time": "2024-12-11T11:20:53.277036Z",
     "start_time": "2024-12-11T11:20:53.240281Z"
    }
   },
   "cell_type": "code",
   "source": [
    "# 评估在测试集上的表现\n",
    "test_accuracy = evaluate(model, X_test, y_test)\n",
    "print(f\"\\n测试集准确率: {test_accuracy:.4f}\")"
   ],
   "id": "4b79102e66c998c7",
   "outputs": [
    {
     "name": "stdout",
     "output_type": "stream",
     "text": [
      "\n",
      "测试集准确率: 0.9667\n"
     ]
    }
   ],
   "execution_count": 29
  },
  {
   "metadata": {
    "ExecuteTime": {
     "end_time": "2024-12-11T11:20:53.558815Z",
     "start_time": "2024-12-11T11:20:53.352194Z"
    }
   },
   "cell_type": "code",
   "source": [
    "# 绘制训练过程\n",
    "\n",
    "plt.figure(figsize=(12,5))\n",
    "\n",
    "plt.subplot(1,2,1)\n",
    "plt.plot(range(1, epochs+1), loss_history, label='训练损失')\n",
    "plt.xlabel('Epoch')\n",
    "plt.ylabel('Loss')\n",
    "plt.title('训练损失曲线')\n",
    "plt.legend()\n",
    "\n",
    "plt.subplot(1,2,2)\n",
    "plt.plot(range(1, epochs+1), accuracy_history, label='训练准确率')\n",
    "plt.xlabel('Epoch')\n",
    "plt.ylabel('Accuracy')\n",
    "plt.title('训练准确率曲线')\n",
    "plt.legend()\n",
    "\n",
    "plt.show()"
   ],
   "id": "4f8f86cee60eef93",
   "outputs": [
    {
     "data": {
      "text/plain": [
       "<Figure size 1200x500 with 2 Axes>"
      ],
      "image/png": "[encoded data removed]"
     },
     "metadata": {},
     "output_type": "display_data"
    }
   ],
   "execution_count": 30
  }
 ],
 "metadata": {
  "kernelspec": {
   "display_name": "Python 3",
   "language": "python",
   "name": "python3"
  },
  "language_info": {
   "codemirror_mode": {
    "name": "ipython",
    "version": 2
   },
   "file_extension": ".py",
   "mimetype": "text/x-python",
   "name": "python",
   "nbconvert_exporter": "python",
   "pygments_lexer": "ipython2",
   "version": "2.7.6"
  }
 },
 "nbformat": 4,
 "nbformat_minor": 5
}
