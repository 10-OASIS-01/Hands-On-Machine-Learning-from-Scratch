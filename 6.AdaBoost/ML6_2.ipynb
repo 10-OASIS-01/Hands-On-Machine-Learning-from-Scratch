{
 "cells": [
  {
   "cell_type": "code",
   "id": "initial_id",
   "metadata": {
    "collapsed": true,
    "ExecuteTime": {
     "end_time": "2024-12-11T07:30:17.765598Z",
     "start_time": "2024-12-11T07:30:16.496900Z"
    }
   },
   "source": [
    "import numpy as np\n",
    "from sklearn.datasets import load_breast_cancer\n",
    "from sklearn.model_selection import train_test_split\n",
    "from sklearn.metrics import accuracy_score\n",
    "from sklearn.ensemble import AdaBoostClassifier\n",
    "from sklearn.tree import DecisionTreeClassifier\n",
    "from sklearn.ensemble import RandomForestClassifier\n",
    "from AdaBoost import AdaBoost\n",
    "import warnings\n",
    "# 禁用所有警告\n",
    "warnings.filterwarnings('ignore', category=FutureWarning)"
   ],
   "outputs": [],
   "execution_count": 1
  },
  {
   "metadata": {
    "ExecuteTime": {
     "end_time": "2024-12-11T07:30:17.786533Z",
     "start_time": "2024-12-11T07:30:17.770605Z"
    }
   },
   "cell_type": "code",
   "source": [
    "# Load and prepare the data\n",
    "data = load_breast_cancer()\n",
    "X, y = data.data, data.target\n",
    "y = np.where(y == 0, -1, 1)  # Convert labels from {0,1} to {-1,1}\n",
    "\n",
    "# Split into training and testing sets\n",
    "X_train, X_test, y_train, y_test = train_test_split(X, y, test_size=0.2, random_state=42)"
   ],
   "id": "43ef02223e921e63",
   "outputs": [],
   "execution_count": 2
  },
  {
   "metadata": {
    "ExecuteTime": {
     "end_time": "2024-12-11T07:30:33.708735Z",
     "start_time": "2024-12-11T07:30:17.864249Z"
    }
   },
   "cell_type": "code",
   "source": [
    "# Train and evaluate your own AdaBoost\n",
    "my_adaboost = AdaBoost(n_clf=50)\n",
    "my_adaboost.fit(X_train, y_train)\n",
    "accuracy_my_adaboost = my_adaboost.score(X_test, y_test)\n",
    "print(f\"My AdaBoost Accuracy: {accuracy_my_adaboost * 100:.2f}%\")\n",
    "\n",
    "# Train and evaluate sklearn's AdaBoostClassifier\n",
    "sklearn_adaboost = AdaBoostClassifier(n_estimators=50)\n",
    "sklearn_adaboost.fit(X_train, y_train)\n",
    "y_pred_sklearn_adaboost = sklearn_adaboost.predict(X_test)\n",
    "accuracy_sklearn_adaboost = accuracy_score(y_test, y_pred_sklearn_adaboost)\n",
    "print(f\"Sklearn AdaBoost Accuracy: {accuracy_sklearn_adaboost * 100:.2f}%\")\n",
    "\n",
    "# Train and evaluate other sklearn classifiers\n",
    "decision_tree = DecisionTreeClassifier()\n",
    "decision_tree.fit(X_train, y_train)\n",
    "y_pred_decision_tree = decision_tree.predict(X_test)\n",
    "accuracy_decision_tree = accuracy_score(y_test, y_pred_decision_tree)\n",
    "print(f\"Decision Tree Accuracy: {accuracy_decision_tree * 100:.2f}%\")\n",
    "\n",
    "random_forest = RandomForestClassifier(n_estimators=100)\n",
    "random_forest.fit(X_train, y_train)\n",
    "y_pred_random_forest = random_forest.predict(X_test)\n",
    "accuracy_random_forest = accuracy_score(y_test, y_pred_random_forest)\n",
    "print(f\"Random Forest Accuracy: {accuracy_random_forest * 100:.2f}%\")"
   ],
   "id": "4ac3e473e6ac09e1",
   "outputs": [
    {
     "name": "stdout",
     "output_type": "stream",
     "text": [
      "My AdaBoost Accuracy: 97.37%\n",
      "Sklearn AdaBoost Accuracy: 97.37%\n",
      "Decision Tree Accuracy: 92.98%\n",
      "Random Forest Accuracy: 96.49%\n"
     ]
    }
   ],
   "execution_count": 3
  }
 ],
 "metadata": {
  "kernelspec": {
   "display_name": "Python 3",
   "language": "python",
   "name": "python3"
  },
  "language_info": {
   "codemirror_mode": {
    "name": "ipython",
    "version": 2
   },
   "file_extension": ".py",
   "mimetype": "text/x-python",
   "name": "python",
   "nbconvert_exporter": "python",
   "pygments_lexer": "ipython2",
   "version": "2.7.6"
  }
 },
 "nbformat": 4,
 "nbformat_minor": 5
}
