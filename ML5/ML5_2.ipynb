{
 "cells": [
  {
   "cell_type": "code",
   "id": "initial_id",
   "metadata": {
    "collapsed": true,
    "ExecuteTime": {
     "end_time": "2024-12-11T03:22:39.554686Z",
     "start_time": "2024-12-11T03:22:39.551879Z"
    }
   },
   "source": [
    "# 导入库\n",
    "from RandomForest import RandomForest\n",
    "from sklearn.datasets import fetch_california_housing, load_wine\n",
    "from sklearn.model_selection import train_test_split\n",
    "from sklearn.metrics import mean_squared_error, r2_score, accuracy_score\n",
    "from sklearn.ensemble import RandomForestClassifier, RandomForestRegressor\n"
   ],
   "outputs": [],
   "execution_count": 4
  },
  {
   "metadata": {},
   "cell_type": "markdown",
   "source": "### 葡萄酒数据集（分类任务）",
   "id": "4ab8f72401734253"
  },
  {
   "metadata": {
    "ExecuteTime": {
     "end_time": "2024-12-11T03:22:39.645074Z",
     "start_time": "2024-12-11T03:22:39.574637Z"
    }
   },
   "cell_type": "code",
   "source": [
    "# 加载 Wine 数据集\n",
    "data = load_wine()\n",
    "X = data.data\n",
    "y = data.target\n",
    "\n",
    "# 分割为训练集和测试集\n",
    "X_train, X_test, y_train, y_test = train_test_split(\n",
    "    X, y, test_size=0.3, random_state=42, stratify=y\n",
    ")\n",
    "\n",
    "# 创建自定义随机森林实例（分类任务）\n",
    "rf_classification = RandomForest(\n",
    "    n_estimators=10,  \n",
    "    max_depth=10,\n",
    "    min_samples_split=2,\n",
    "    max_features=\"sqrt\",\n",
    "    task='classification',\n",
    ")\n",
    "\n",
    "# 训练自定义随机森林\n",
    "rf_classification.fit(X_train, y_train)\n",
    "\n",
    "# 预测测试集\n",
    "y_pred_class = rf_classification.predict(X_test)\n",
    "\n",
    "# 计算准确率\n",
    "accuracy = accuracy_score(y_test, y_pred_class)\n",
    "print(f\"自定义随机森林（分类）准确率: {accuracy * 100:.2f}%\")\n",
    "\n",
    "# 创建 sklearn 随机森林实例（分类任务）\n",
    "sklearn_rf_classification = RandomForestClassifier(\n",
    "    n_estimators=10, \n",
    "    max_depth=10, \n",
    "    min_samples_split=2, \n",
    "    max_features=\"sqrt\", \n",
    "    random_state=42\n",
    ")\n",
    "\n",
    "# 训练 sklearn 随机森林\n",
    "sklearn_rf_classification.fit(X_train, y_train)\n",
    "\n",
    "# 预测测试集\n",
    "y_pred_sklearn_class = sklearn_rf_classification.predict(X_test)\n",
    "\n",
    "# 计算准确率\n",
    "accuracy_sklearn = accuracy_score(y_test, y_pred_sklearn_class)\n",
    "print(f\"sklearn 随机森林（分类）准确率: {accuracy_sklearn * 100:.2f}%\")\n"
   ],
   "id": "218e862fe14caac7",
   "outputs": [
    {
     "name": "stdout",
     "output_type": "stream",
     "text": [
      "自定义随机森林（分类）准确率: 100.00%\n",
      "sklearn 随机森林（分类）准确率: 96.30%\n"
     ]
    }
   ],
   "execution_count": 5
  },
  {
   "metadata": {},
   "cell_type": "markdown",
   "source": "### 加利福尼亚房价数据集 - 回归任务",
   "id": "d9e0ec943582baab"
  },
  {
   "metadata": {
    "ExecuteTime": {
     "end_time": "2024-12-11T03:22:45.110131Z",
     "start_time": "2024-12-11T03:22:39.658574Z"
    }
   },
   "cell_type": "code",
   "source": [
    "# 加载加州房价数据集\n",
    "california = fetch_california_housing()\n",
    "X = california.data\n",
    "y = california.target\n",
    "\n",
    "# 分割为训练集和测试集\n",
    "X_train, X_test, y_train, y_test = train_test_split(\n",
    "    X, y, test_size=0.3, random_state=42\n",
    ")\n",
    "\n",
    "# 创建自定义随机森林实例（回归任务）\n",
    "rf_regression = RandomForest(\n",
    "    n_estimators=10,  # 树的数量，可以根据需要调整\n",
    "    max_depth=10,\n",
    "    min_samples_split=2,\n",
    "    max_features=\"sqrt\",\n",
    "    task='regression',\n",
    ")\n",
    "\n",
    "# 训练自定义随机森林\n",
    "rf_regression.fit(X_train, y_train)\n",
    "\n",
    "# 预测测试集\n",
    "y_pred_reg = rf_regression.predict(X_test)\n",
    "\n",
    "# 计算回归指标\n",
    "mse = mean_squared_error(y_test, y_pred_reg)\n",
    "r2 = r2_score(y_test, y_pred_reg)\n",
    "print(f\"自定义随机森林（回归）MSE: {mse:.4f}\")\n",
    "print(f\"自定义随机森林（回归）R2 Score: {r2:.4f}\")\n",
    "\n",
    "# 创建 sklearn 随机森林实例（回归任务）\n",
    "sklearn_rf_regression = RandomForestRegressor(\n",
    "    n_estimators=10, max_depth=10, min_samples_split=2, max_features=\"sqrt\", random_state=42\n",
    ")\n",
    "\n",
    "# 训练 sklearn 随机森林\n",
    "sklearn_rf_regression.fit(X_train, y_train)\n",
    "\n",
    "# 预测测试集\n",
    "y_pred_sklearn_reg = sklearn_rf_regression.predict(X_test)\n",
    "\n",
    "# 计算回归指标\n",
    "mse_sklearn = mean_squared_error(y_test, y_pred_sklearn_reg)\n",
    "r2_sklearn = r2_score(y_test, y_pred_sklearn_reg)\n",
    "print(f\"sklearn 随机森林（回归）MSE: {mse_sklearn:.4f}\")\n",
    "print(f\"sklearn 随机森林（回归）R2 Score: {r2_sklearn:.4f}\")"
   ],
   "id": "3be4185b82248305",
   "outputs": [
    {
     "name": "stdout",
     "output_type": "stream",
     "text": [
      "自定义随机森林（回归）MSE: 0.3205\n",
      "自定义随机森林（回归）R2 Score: 0.7558\n",
      "sklearn 随机森林（回归）MSE: 0.3316\n",
      "sklearn 随机森林（回归）R2 Score: 0.7473\n"
     ]
    }
   ],
   "execution_count": 6
  }
 ],
 "metadata": {
  "kernelspec": {
   "display_name": "Python 3",
   "language": "python",
   "name": "python3"
  },
  "language_info": {
   "codemirror_mode": {
    "name": "ipython",
    "version": 2
   },
   "file_extension": ".py",
   "mimetype": "text/x-python",
   "name": "python",
   "nbconvert_exporter": "python",
   "pygments_lexer": "ipython2",
   "version": "2.7.6"
  }
 },
 "nbformat": 4,
 "nbformat_minor": 5
}
