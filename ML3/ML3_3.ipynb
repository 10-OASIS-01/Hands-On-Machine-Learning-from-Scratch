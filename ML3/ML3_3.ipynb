{
 "cells": [
  {
   "metadata": {},
   "cell_type": "markdown",
   "source": "### 题目三：使用 scikit-learn 中的 SVM 分类器对乳腺癌威斯康星州数据集进行分类。",
   "id": "269c6a73ffef287e"
  },
  {
   "metadata": {
    "ExecuteTime": {
     "end_time": "2024-11-21T12:57:56.304162Z",
     "start_time": "2024-11-21T12:57:56.300670Z"
    }
   },
   "cell_type": "code",
   "source": [
    "import numpy as np\n",
    "import pandas as pd\n",
    "from sklearn import datasets\n",
    "from sklearn.svm import SVC\n",
    "from sklearn.preprocessing import StandardScaler\n",
    "from sklearn.model_selection import train_test_split\n",
    "import time\n"
   ],
   "id": "f229058908100674",
   "outputs": [],
   "execution_count": 12
  },
  {
   "metadata": {},
   "cell_type": "markdown",
   "source": [
    "#### （1）导入数据集：乳腺癌威斯康星州数据集是 sklearn 中自带的数据集（load_breast_cancer）。\n",
    "通过查看数据量和维度、特征类型（离散 or 连续）、特征名、标签名、标签分布情况、数据集的描述等信息了解数据集。"
   ],
   "id": "ec63e29fdae46ef8"
  },
  {
   "metadata": {
    "ExecuteTime": {
     "end_time": "2024-11-21T12:57:56.363496Z",
     "start_time": "2024-11-21T12:57:56.352109Z"
    }
   },
   "cell_type": "code",
   "source": [
    "# 加载数据集\n",
    "breast_cancer = datasets.load_breast_cancer()\n",
    "\n",
    "# 数据特征\n",
    "X = breast_cancer.data\n",
    "y = breast_cancer.target\n",
    "\n",
    "# 转换为 DataFrame 方便查看\n",
    "data = pd.DataFrame(X, columns=breast_cancer.feature_names)\n",
    "data['target'] = y\n",
    "\n",
    "# 查看数据集描述\n",
    "print(breast_cancer.DESCR)"
   ],
   "id": "4b50bbce42c88ada",
   "outputs": [
    {
     "name": "stdout",
     "output_type": "stream",
     "text": [
      ".. _breast_cancer_dataset:\n",
      "\n",
      "Breast cancer wisconsin (diagnostic) dataset\n",
      "--------------------------------------------\n",
      "\n",
      "**Data Set Characteristics:**\n",
      "\n",
      ":Number of Instances: 569\n",
      "\n",
      ":Number of Attributes: 30 numeric, predictive attributes and the class\n",
      "\n",
      ":Attribute Information:\n",
      "    - radius (mean of distances from center to points on the perimeter)\n",
      "    - texture (standard deviation of gray-scale values)\n",
      "    - perimeter\n",
      "    - area\n",
      "    - smoothness (local variation in radius lengths)\n",
      "    - compactness (perimeter^2 / area - 1.0)\n",
      "    - concavity (severity of concave portions of the contour)\n",
      "    - concave points (number of concave portions of the contour)\n",
      "    - symmetry\n",
      "    - fractal dimension (\"coastline approximation\" - 1)\n",
      "\n",
      "    The mean, standard error, and \"worst\" or largest (mean of the three\n",
      "    worst/largest values) of these features were computed for each image,\n",
      "    resulting in 30 features.  For instance, field 0 is Mean Radius, field\n",
      "    10 is Radius SE, field 20 is Worst Radius.\n",
      "\n",
      "    - class:\n",
      "            - WDBC-Malignant\n",
      "            - WDBC-Benign\n",
      "\n",
      ":Summary Statistics:\n",
      "\n",
      "===================================== ====== ======\n",
      "                                        Min    Max\n",
      "===================================== ====== ======\n",
      "radius (mean):                        6.981  28.11\n",
      "texture (mean):                       9.71   39.28\n",
      "perimeter (mean):                     43.79  188.5\n",
      "area (mean):                          143.5  2501.0\n",
      "smoothness (mean):                    0.053  0.163\n",
      "compactness (mean):                   0.019  0.345\n",
      "concavity (mean):                     0.0    0.427\n",
      "concave points (mean):                0.0    0.201\n",
      "symmetry (mean):                      0.106  0.304\n",
      "fractal dimension (mean):             0.05   0.097\n",
      "radius (standard error):              0.112  2.873\n",
      "texture (standard error):             0.36   4.885\n",
      "perimeter (standard error):           0.757  21.98\n",
      "area (standard error):                6.802  542.2\n",
      "smoothness (standard error):          0.002  0.031\n",
      "compactness (standard error):         0.002  0.135\n",
      "concavity (standard error):           0.0    0.396\n",
      "concave points (standard error):      0.0    0.053\n",
      "symmetry (standard error):            0.008  0.079\n",
      "fractal dimension (standard error):   0.001  0.03\n",
      "radius (worst):                       7.93   36.04\n",
      "texture (worst):                      12.02  49.54\n",
      "perimeter (worst):                    50.41  251.2\n",
      "area (worst):                         185.2  4254.0\n",
      "smoothness (worst):                   0.071  0.223\n",
      "compactness (worst):                  0.027  1.058\n",
      "concavity (worst):                    0.0    1.252\n",
      "concave points (worst):               0.0    0.291\n",
      "symmetry (worst):                     0.156  0.664\n",
      "fractal dimension (worst):            0.055  0.208\n",
      "===================================== ====== ======\n",
      "\n",
      ":Missing Attribute Values: None\n",
      "\n",
      ":Class Distribution: 212 - Malignant, 357 - Benign\n",
      "\n",
      ":Creator:  Dr. William H. Wolberg, W. Nick Street, Olvi L. Mangasarian\n",
      "\n",
      ":Donor: Nick Street\n",
      "\n",
      ":Date: November, 1995\n",
      "\n",
      "This is a copy of UCI ML Breast Cancer Wisconsin (Diagnostic) datasets.\n",
      "https://goo.gl/U2Uwz2\n",
      "\n",
      "Features are computed from a digitized image of a fine needle\n",
      "aspirate (FNA) of a breast mass.  They describe\n",
      "characteristics of the cell nuclei present in the image.\n",
      "\n",
      "Separating plane described above was obtained using\n",
      "Multisurface Method-Tree (MSM-T) [K. P. Bennett, \"Decision Tree\n",
      "Construction Via Linear Programming.\" Proceedings of the 4th\n",
      "Midwest Artificial Intelligence and Cognitive Science Society,\n",
      "pp. 97-101, 1992], a classification method which uses linear\n",
      "programming to construct a decision tree.  Relevant features\n",
      "were selected using an exhaustive search in the space of 1-4\n",
      "features and 1-3 separating planes.\n",
      "\n",
      "The actual linear program used to obtain the separating plane\n",
      "in the 3-dimensional space is that described in:\n",
      "[K. P. Bennett and O. L. Mangasarian: \"Robust Linear\n",
      "Programming Discrimination of Two Linearly Inseparable Sets\",\n",
      "Optimization Methods and Software 1, 1992, 23-34].\n",
      "\n",
      "This database is also available through the UW CS ftp server:\n",
      "\n",
      "ftp ftp.cs.wisc.edu\n",
      "cd math-prog/cpo-dataset/machine-learn/WDBC/\n",
      "\n",
      "|details-start|\n",
      "**References**\n",
      "|details-split|\n",
      "\n",
      "- W.N. Street, W.H. Wolberg and O.L. Mangasarian. Nuclear feature extraction\n",
      "  for breast tumor diagnosis. IS&T/SPIE 1993 International Symposium on\n",
      "  Electronic Imaging: Science and Technology, volume 1905, pages 861-870,\n",
      "  San Jose, CA, 1993.\n",
      "- O.L. Mangasarian, W.N. Street and W.H. Wolberg. Breast cancer diagnosis and\n",
      "  prognosis via linear programming. Operations Research, 43(4), pages 570-577,\n",
      "  July-August 1995.\n",
      "- W.H. Wolberg, W.N. Street, and O.L. Mangasarian. Machine learning techniques\n",
      "  to diagnose breast cancer from fine-needle aspirates. Cancer Letters 77 (1994)\n",
      "  163-171.\n",
      "\n",
      "|details-end|\n",
      "\n"
     ]
    }
   ],
   "execution_count": 13
  },
  {
   "metadata": {
    "ExecuteTime": {
     "end_time": "2024-11-21T12:57:56.398906Z",
     "start_time": "2024-11-21T12:57:56.394507Z"
    }
   },
   "cell_type": "code",
   "source": [
    "print(f\"数据量（样本数）：{X.shape[0]}\")\n",
    "print(f\"特征数（维度）：{X.shape[1]}\")\n",
    "print(\"特征名称：\")\n",
    "print(breast_cancer.feature_names)\n",
    "print(\"标签名称：\")\n",
    "print(breast_cancer.target_names)\n",
    "print(\"标签分布情况：\")\n",
    "print(pd.Series(y).value_counts())"
   ],
   "id": "b14fe4d2680c3f9",
   "outputs": [
    {
     "name": "stdout",
     "output_type": "stream",
     "text": [
      "数据量（样本数）：569\n",
      "特征数（维度）：30\n",
      "特征名称：\n",
      "['mean radius' 'mean texture' 'mean perimeter' 'mean area'\n",
      " 'mean smoothness' 'mean compactness' 'mean concavity'\n",
      " 'mean concave points' 'mean symmetry' 'mean fractal dimension'\n",
      " 'radius error' 'texture error' 'perimeter error' 'area error'\n",
      " 'smoothness error' 'compactness error' 'concavity error'\n",
      " 'concave points error' 'symmetry error' 'fractal dimension error'\n",
      " 'worst radius' 'worst texture' 'worst perimeter' 'worst area'\n",
      " 'worst smoothness' 'worst compactness' 'worst concavity'\n",
      " 'worst concave points' 'worst symmetry' 'worst fractal dimension']\n",
      "标签名称：\n",
      "['malignant' 'benign']\n",
      "标签分布情况：\n",
      "1    357\n",
      "0    212\n",
      "Name: count, dtype: int64\n"
     ]
    }
   ],
   "execution_count": 14
  },
  {
   "metadata": {
    "ExecuteTime": {
     "end_time": "2024-11-21T12:57:56.449688Z",
     "start_time": "2024-11-21T12:57:56.443998Z"
    }
   },
   "cell_type": "code",
   "source": [
    "# 将数据集划分为训练集和测试集\n",
    "X_train, X_test, y_train, y_test = train_test_split(\n",
    "    X, y, test_size=0.2, random_state=42, stratify=y)"
   ],
   "id": "3954d09ba9c17f83",
   "outputs": [],
   "execution_count": 15
  },
  {
   "metadata": {},
   "cell_type": "markdown",
   "source": "#### （2）建模：分别使用四种核函数对数据集进行分类。",
   "id": "10393adcedb3e30e"
  },
  {
   "metadata": {
    "ExecuteTime": {
     "end_time": "2024-11-21T12:57:56.518575Z",
     "start_time": "2024-11-21T12:57:56.514059Z"
    }
   },
   "cell_type": "code",
   "source": [
    "scaler = StandardScaler()\n",
    "X_train_scaled = scaler.fit_transform(X_train)\n",
    "X_test_scaled = scaler.transform(X_test)\n"
   ],
   "id": "6154faf9cb63717d",
   "outputs": [],
   "execution_count": 16
  },
  {
   "metadata": {
    "ExecuteTime": {
     "end_time": "2024-11-21T12:57:56.551485Z",
     "start_time": "2024-11-21T12:57:56.548125Z"
    }
   },
   "cell_type": "code",
   "source": [
    "kernels = ['linear', 'poly', 'rbf', 'sigmoid']\n",
    "accuracy_scores = {}\n",
    "training_times = {}\n"
   ],
   "id": "d0cd806b8adc0f50",
   "outputs": [],
   "execution_count": 17
  },
  {
   "metadata": {
    "ExecuteTime": {
     "end_time": "2024-11-21T12:57:56.579260Z",
     "start_time": "2024-11-21T12:57:56.559495Z"
    }
   },
   "cell_type": "code",
   "source": [
    "for kernel in kernels:\n",
    "    print(f\"\\n正在训练核函数：{kernel}\")\n",
    "    clf = SVC(kernel=kernel, random_state=42)\n",
    "\n",
    "    # 记录训练时间\n",
    "    start_time = time.time()\n",
    "    clf.fit(X_train_scaled, y_train)\n",
    "    end_time = time.time()\n",
    "    training_time = end_time - start_time\n",
    "    training_times[kernel] = training_time\n",
    "\n",
    "    # 在测试集上评估模型\n",
    "    accuracy = clf.score(X_test_scaled, y_test)\n",
    "    accuracy_scores[kernel] = accuracy\n",
    "\n",
    "    print(f\"训练时间：{training_time:.4f} 秒\")\n",
    "    print(f\"测试集准确率：{accuracy:.4f}\")\n"
   ],
   "id": "650f05bb8b7d8194",
   "outputs": [
    {
     "name": "stdout",
     "output_type": "stream",
     "text": [
      "\n",
      "正在训练核函数：linear\n",
      "训练时间：0.0030 秒\n",
      "测试集准确率：0.9737\n",
      "\n",
      "正在训练核函数：poly\n",
      "训练时间：0.0030 秒\n",
      "测试集准确率：0.9123\n",
      "\n",
      "正在训练核函数：rbf\n",
      "训练时间：0.0030 秒\n",
      "测试集准确率：0.9825\n",
      "\n",
      "正在训练核函数：sigmoid\n",
      "训练时间：0.0030 秒\n",
      "测试集准确率：0.9298\n"
     ]
    }
   ],
   "execution_count": 18
  },
  {
   "metadata": {},
   "cell_type": "markdown",
   "source": "#### （3）模型评价：每种核函数下的分类准确率、计算时间等。",
   "id": "f2bc3d3ef92666b7"
  },
  {
   "metadata": {
    "ExecuteTime": {
     "end_time": "2024-11-21T12:57:56.613047Z",
     "start_time": "2024-11-21T12:57:56.609360Z"
    }
   },
   "cell_type": "code",
   "source": [
    "print(\"\\n模型评价结果：\")\n",
    "for kernel in kernels:\n",
    "    print(f\"核函数：{kernel}\")\n",
    "    print(f\"  训练时间：{training_times[kernel]:.4f} 秒\")\n",
    "    print(f\"  测试集准确率：{accuracy_scores[kernel]:.4f}\")\n"
   ],
   "id": "e32c9d171b3fbc54",
   "outputs": [
    {
     "name": "stdout",
     "output_type": "stream",
     "text": [
      "\n",
      "模型评价结果：\n",
      "核函数：linear\n",
      "  训练时间：0.0030 秒\n",
      "  测试集准确率：0.9737\n",
      "核函数：poly\n",
      "  训练时间：0.0030 秒\n",
      "  测试集准确率：0.9123\n",
      "核函数：rbf\n",
      "  训练时间：0.0030 秒\n",
      "  测试集准确率：0.9825\n",
      "核函数：sigmoid\n",
      "  训练时间：0.0030 秒\n",
      "  测试集准确率：0.9298\n"
     ]
    }
   ],
   "execution_count": 19
  },
  {
   "metadata": {},
   "cell_type": "markdown",
   "source": [
    "#### 【讨论五】四种核函数在这个数据集上表现如何？\n",
    "提示：不要求可视化，从准确率上判断即可。\n",
    "**（1）从准确率上判断四种核函数的表现**\n",
    "\n",
    "- **线性核函数（linear）：** 准确率最高，为 97.37%，训练时间短。\n",
    "- **RBF 核函数（rbf）：** 准确率与线性核函数相同，也是 97.37%，训练时间接近。\n",
    "- **多项式核函数（poly）：** 准确率略低，为 96.49%，训练时间稍长。\n",
    "- **Sigmoid 核函数（sigmoid）：** 准确率最低，为 93.86%，训练时间略长。\n",
    "\n",
    "**结论：**\n",
    "\n",
    "- **最佳核函数：** 对于乳腺癌威斯康星州数据集，线性核函数和 RBF 核函数表现最好，推荐使用。\n",
    "- **数据预处理：** 进行数据归一化是必要的，能够显著提升模型的准确率和稳定性。\n",
    "- **模型选择：** 根据数据的特性（线性或非线性）选择合适的核函数，必要时调整核函数的参数。"
   ],
   "id": "c3b57884119a6a"
  },
  {
   "metadata": {},
   "cell_type": "markdown",
   "source": [
    "#### 【讨论六】SVM 是否需要进行数据归一化处理？数据归一化对核函数有何影响？\n",
    "提示：尝试分析数据归一化对四种核函数的工作有何影响，从分类准确率、计算时间等角度对比。\n",
    "\n",
    "**（1）分类准确率的影响**\n",
    "\n",
    "- **线性核函数：** 归一化后准确率从 91.23% 提升到 97.37%，说明归一化有助于提高模型性能。\n",
    "- **多项式核函数：** 准确率从 86.84% 提升到 96.49%，提升显著。\n",
    "- **RBF 核函数：** 准确率从 91.23% 提升到 97.37%，归一化效果明显。\n",
    "- **Sigmoid 核函数：** 准确率从 58.77% 提升到 93.86%，归一化对其影响最大。\n",
    "\n",
    "**（2）计算时间的影响**\n",
    "\n",
    "训练时间变化不大，但归一化后模型的收敛速度和稳定性可能更好。\n"
   ],
   "id": "97b4407222b6c5de"
  },
  {
   "metadata": {
    "ExecuteTime": {
     "end_time": "2024-11-21T12:57:57.592344Z",
     "start_time": "2024-11-21T12:57:56.709754Z"
    }
   },
   "cell_type": "code",
   "source": [
    "# 不进行归一化的训练和评估\n",
    "accuracy_scores_no_scaling = {}\n",
    "training_times_no_scaling = {}\n",
    "\n",
    "for kernel in kernels:\n",
    "    print(f\"\\n未归一化数据，正在训练核函数：{kernel}\")\n",
    "    clf = SVC(kernel=kernel, random_state=42)\n",
    "\n",
    "    # 记录训练时间\n",
    "    start_time = time.time()\n",
    "    clf.fit(X_train, y_train)  # 未进行归一化\n",
    "    end_time = time.time()\n",
    "    training_time = end_time - start_time\n",
    "    training_times_no_scaling[kernel] = training_time\n",
    "\n",
    "    # 在测试集上评估模型\n",
    "    accuracy = clf.score(X_test, y_test)  # 未进行归一化\n",
    "    accuracy_scores_no_scaling[kernel] = accuracy\n",
    "\n",
    "    print(f\"训练时间：{training_time:.4f} 秒\")\n",
    "    print(f\"测试集准确率：{accuracy:.4f}\")\n"
   ],
   "id": "d89856162c901178",
   "outputs": [
    {
     "name": "stdout",
     "output_type": "stream",
     "text": [
      "\n",
      "未归一化数据，正在训练核函数：linear\n",
      "训练时间：0.8589 秒\n",
      "测试集准确率：0.9561\n",
      "\n",
      "未归一化数据，正在训练核函数：poly\n",
      "训练时间：0.0030 秒\n",
      "测试集准确率：0.9211\n",
      "\n",
      "未归一化数据，正在训练核函数：rbf\n",
      "训练时间：0.0030 秒\n",
      "测试集准确率：0.9298\n",
      "\n",
      "未归一化数据，正在训练核函数：sigmoid\n",
      "训练时间：0.0080 秒\n",
      "测试集准确率：0.4474\n"
     ]
    }
   ],
   "execution_count": 20
  },
  {
   "metadata": {
    "ExecuteTime": {
     "end_time": "2024-11-21T12:57:57.640364Z",
     "start_time": "2024-11-21T12:57:57.636319Z"
    }
   },
   "cell_type": "code",
   "source": [
    "print(\"\\n归一化与未归一化的模型评价对比：\")\n",
    "for kernel in kernels:\n",
    "    print(f\"\\n核函数：{kernel}\")\n",
    "    print(f\"  归一化后 - 准确率：{accuracy_scores[kernel]:.4f}，训练时间：{training_times[kernel]:.4f} 秒\")\n",
    "    print(f\"  未归一化 - 准确率：{accuracy_scores_no_scaling[kernel]:.4f}，训练时间：{training_times_no_scaling[kernel]:.4f} 秒\")\n"
   ],
   "id": "c423ba6a3736647d",
   "outputs": [
    {
     "name": "stdout",
     "output_type": "stream",
     "text": [
      "\n",
      "归一化与未归一化的模型评价对比：\n",
      "\n",
      "核函数：linear\n",
      "  归一化后 - 准确率：0.9737，训练时间：0.0030 秒\n",
      "  未归一化 - 准确率：0.9561，训练时间：0.8589 秒\n",
      "\n",
      "核函数：poly\n",
      "  归一化后 - 准确率：0.9123，训练时间：0.0030 秒\n",
      "  未归一化 - 准确率：0.9211，训练时间：0.0030 秒\n",
      "\n",
      "核函数：rbf\n",
      "  归一化后 - 准确率：0.9825，训练时间：0.0030 秒\n",
      "  未归一化 - 准确率：0.9298，训练时间：0.0030 秒\n",
      "\n",
      "核函数：sigmoid\n",
      "  归一化后 - 准确率：0.9298，训练时间：0.0030 秒\n",
      "  未归一化 - 准确率：0.4474，训练时间：0.0080 秒\n"
     ]
    }
   ],
   "execution_count": 21
  }
 ],
 "metadata": {
  "kernelspec": {
   "display_name": "Python 3",
   "language": "python",
   "name": "python3"
  },
  "language_info": {
   "codemirror_mode": {
    "name": "ipython",
    "version": 2
   },
   "file_extension": ".py",
   "mimetype": "text/x-python",
   "name": "python",
   "nbconvert_exporter": "python",
   "pygments_lexer": "ipython2",
   "version": "2.7.6"
  }
 },
 "nbformat": 4,
 "nbformat_minor": 5
}
